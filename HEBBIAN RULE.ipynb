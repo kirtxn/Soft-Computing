{
 "cells": [
  {
   "cell_type": "code",
   "execution_count": 1,
   "id": "8ac650d1",
   "metadata": {},
   "outputs": [],
   "source": [
    "import numpy as np"
   ]
  },
  {
   "cell_type": "code",
   "execution_count": 2,
   "id": "f01bb337",
   "metadata": {},
   "outputs": [],
   "source": [
    "def signum(x):\n",
    "    if(x<0):\n",
    "        return -1\n",
    "    else:\n",
    "        return 1"
   ]
  },
  {
   "cell_type": "code",
   "execution_count": 3,
   "id": "37614868",
   "metadata": {},
   "outputs": [
    {
     "name": "stdout",
     "output_type": "stream",
     "text": [
      "training inputs are:\n",
      " [[-1.   2.   1.5  0. ]\n",
      " [ 1.  -0.5 -2.  -1.5]\n",
      " [ 0.   1.  -1.   1.5]]\n"
     ]
    }
   ],
   "source": [
    "c=1\n",
    "training_input=np.array([[-1,2,1.5,0],[1,-0.5,-2,-1.5],[0,1,-1,1.5]])\n",
    "print(\"training inputs are:\\n\",training_input)"
   ]
  },
  {
   "cell_type": "code",
   "execution_count": 4,
   "id": "54ed04aa",
   "metadata": {},
   "outputs": [
    {
     "name": "stdout",
     "output_type": "stream",
     "text": [
      "Weights are:\n",
      " [ 1.  -1.   0.   0.5]\n"
     ]
    }
   ],
   "source": [
    "init_weights=np.array([1,-1,0,0.5])\n",
    "print(\"Weights are:\\n\",init_weights)"
   ]
  },
  {
   "cell_type": "code",
   "execution_count": 5,
   "id": "3fe9aa35",
   "metadata": {},
   "outputs": [
    {
     "name": "stdout",
     "output_type": "stream",
     "text": [
      "iteration 1\n",
      "updated weights are: [ 2.  -3.  -1.5  0.5]\n",
      "updated weights are: [ 3.  -3.5 -3.5 -1. ]\n",
      "updated weights are: [ 3.  -4.5 -2.5 -2.5]\n",
      "\n",
      "\n",
      "iteration 2\n",
      "updated weights are: [ 4.  -6.5 -4.  -2.5]\n",
      "updated weights are: [ 5. -7. -6. -4.]\n",
      "updated weights are: [ 5.  -8.  -5.  -5.5]\n",
      "\n",
      "\n",
      "iteration 3\n",
      "updated weights are: [  6.  -10.   -6.5  -5.5]\n",
      "updated weights are: [  7.  -10.5  -8.5  -7. ]\n",
      "updated weights are: [  7.  -11.5  -7.5  -8.5]\n",
      "\n",
      "\n"
     ]
    }
   ],
   "source": [
    "for z in range(3):\n",
    "    print(\"iteration\",z+1)\n",
    "    for i in training_input:\n",
    "        fnet=signum(np.dot(i,init_weights.T))\n",
    "        def_w=np.dot(i,fnet)\n",
    "        init_weights+=def_w;\n",
    "        print(\"updated weights are:\",init_weights)\n",
    "    print(\"\\n\")"
   ]
  },
  {
   "cell_type": "code",
   "execution_count": null,
   "id": "41bdbf6b",
   "metadata": {},
   "outputs": [],
   "source": []
  },
  {
   "cell_type": "code",
   "execution_count": null,
   "id": "160b81d4",
   "metadata": {},
   "outputs": [],
   "source": []
  }
 ],
 "metadata": {
  "kernelspec": {
   "display_name": "Python 3 (ipykernel)",
   "language": "python",
   "name": "python3"
  },
  "language_info": {
   "codemirror_mode": {
    "name": "ipython",
    "version": 3
   },
   "file_extension": ".py",
   "mimetype": "text/x-python",
   "name": "python",
   "nbconvert_exporter": "python",
   "pygments_lexer": "ipython3",
   "version": "3.9.7"
  }
 },
 "nbformat": 4,
 "nbformat_minor": 5
}
