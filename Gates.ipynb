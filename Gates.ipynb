{
 "cells": [
  {
   "cell_type": "code",
   "execution_count": 19,
   "id": "1f6cdf1a",
   "metadata": {},
   "outputs": [],
   "source": [
    "import numpy as np"
   ]
  },
  {
   "cell_type": "code",
   "execution_count": 20,
   "id": "bf73fd3a",
   "metadata": {},
   "outputs": [],
   "source": [
    "training_inputs=np.array([[0,0],[0,1],[1,0],[1,1]])"
   ]
  },
  {
   "cell_type": "code",
   "execution_count": 21,
   "id": "47bb560e",
   "metadata": {},
   "outputs": [],
   "source": [
    "weight=np.array([1,1]).reshape(2,1)"
   ]
  },
  {
   "cell_type": "code",
   "execution_count": 22,
   "id": "33ee9846",
   "metadata": {},
   "outputs": [
    {
     "name": "stdout",
     "output_type": "stream",
     "text": [
      "input[0 0]:output0\n",
      "input[0 1]:output0\n",
      "input[1 0]:output0\n",
      "input[1 1]:output1\n"
     ]
    }
   ],
   "source": [
    "bias=-2;\n",
    "def andgate(x):\n",
    "    if np.dot(x,weight)+bias>=0:\n",
    "        print(\"input{}:output{}\".format(x,1))\n",
    "    else:\n",
    "        print(\"input{}:output{}\".format(x,0))\n",
    "for i in range(4):\n",
    "    andgate(training_inputs[i])"
   ]
  },
  {
   "cell_type": "code",
   "execution_count": 25,
   "id": "d9e87268",
   "metadata": {},
   "outputs": [],
   "source": [
    "training_inputs=np.array([[0,0],[0,1],[1,0],[1,1]])\n",
    "weights=np.array([1,1]).reshape(2,1)\n",
    "bias = -1;\n",
    "\n"
   ]
  },
  {
   "cell_type": "code",
   "execution_count": 27,
   "id": "8ef41356",
   "metadata": {},
   "outputs": [
    {
     "name": "stdout",
     "output_type": "stream",
     "text": [
      "input[0 0]:output0\n",
      "input[0 1]:output1\n",
      "input[1 0]:output1\n",
      "input[1 1]:output1\n"
     ]
    }
   ],
   "source": [
    "def orgate(x):\n",
    "    if(np.dot(x,weight)+bias>=0):\n",
    "        print(\"input{}:output{}\".format(x,1))\n",
    "    else:\n",
    "        print(\"input{}:output{}\".format(x,0))\n",
    "for i in range(4):\n",
    "    orgate(training_inputs[i])"
   ]
  },
  {
   "cell_type": "code",
   "execution_count": 30,
   "id": "e74f34d7",
   "metadata": {},
   "outputs": [],
   "source": [
    "training_input=np.array([[0,0],[0,1],[1,0],[1,1]])\n",
    "weights=np.array([-1,-1]).reshape(2,1)\n",
    "bias=1\n"
   ]
  },
  {
   "cell_type": "code",
   "execution_count": 31,
   "id": "4af53a3d",
   "metadata": {},
   "outputs": [
    {
     "name": "stdout",
     "output_type": "stream",
     "text": [
      "input[0 0]:output1\n",
      "input[0 1]:output1\n",
      "input[1 0]:output1\n",
      "input[1 1]:output0\n"
     ]
    }
   ],
   "source": [
    "def nandgate(x):\n",
    "    if np.dot(x,weights)+bias>=0:\n",
    "        print(\"input{}:output{}\".format(x,1))\n",
    "    else:\n",
    "        print(\"input{}:output{}\".format(x,0))\n",
    "for i in range(4):\n",
    "    nandgate(training_inputs[i])"
   ]
  },
  {
   "cell_type": "code",
   "execution_count": null,
   "id": "6681207a",
   "metadata": {},
   "outputs": [],
   "source": []
  }
 ],
 "metadata": {
  "kernelspec": {
   "display_name": "Python 3 (ipykernel)",
   "language": "python",
   "name": "python3"
  },
  "language_info": {
   "codemirror_mode": {
    "name": "ipython",
    "version": 3
   },
   "file_extension": ".py",
   "mimetype": "text/x-python",
   "name": "python",
   "nbconvert_exporter": "python",
   "pygments_lexer": "ipython3",
   "version": "3.9.7"
  }
 },
 "nbformat": 4,
 "nbformat_minor": 5
}
