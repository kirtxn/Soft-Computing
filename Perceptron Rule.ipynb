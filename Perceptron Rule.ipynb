{
 "cells": [
  {
   "cell_type": "code",
   "execution_count": 23,
   "id": "2d864215",
   "metadata": {},
   "outputs": [],
   "source": [
    "import numpy as np"
   ]
  },
  {
   "cell_type": "code",
   "execution_count": 24,
   "id": "4c2ffe1c",
   "metadata": {},
   "outputs": [],
   "source": [
    "def signum(x):\n",
    "    if(x<0):\n",
    "        return -1\n",
    "    else:\n",
    "        return 1\n",
    "    "
   ]
  },
  {
   "cell_type": "code",
   "execution_count": 25,
   "id": "61dad2d1",
   "metadata": {},
   "outputs": [
    {
     "name": "stdout",
     "output_type": "stream",
     "text": [
      "training inputs are:\n",
      " [[ 1.  -2.   0.  -1. ]\n",
      " [ 0.   1.5 -0.5 -1. ]\n",
      " [-1.   1.   0.5 -1. ]]\n"
     ]
    }
   ],
   "source": [
    "c=0.1\n",
    "training_inputs=np.array([[1,-2,0,-1],[0,1.5,-0.5,-1],[-1,1,0.5,-1]])\n",
    "print(\"training inputs are:\\n\",training_inputs)"
   ]
  },
  {
   "cell_type": "code",
   "execution_count": 26,
   "id": "d1a4fe06",
   "metadata": {},
   "outputs": [
    {
     "name": "stdout",
     "output_type": "stream",
     "text": [
      "Weights are:\n",
      " [ 1.  -1.   0.   0.5]\n"
     ]
    }
   ],
   "source": [
    "init_weights=np.array([1,-1,0,0.5])\n",
    "print(\"Weights are:\\n\",init_weights)"
   ]
  },
  {
   "cell_type": "code",
   "execution_count": 27,
   "id": "a64baa53",
   "metadata": {},
   "outputs": [],
   "source": [
    "d=np.array([-1,-1,-1])"
   ]
  },
  {
   "cell_type": "code",
   "execution_count": 28,
   "id": "ec7ad360",
   "metadata": {},
   "outputs": [
    {
     "name": "stdout",
     "output_type": "stream",
     "text": [
      "iteration: 1\n",
      "Updated weights are: [ 0.8 -0.6  0.   0.7]\n",
      "Updated weights are: [ 0.8 -0.6  0.   0.7]\n",
      "Updated weights are: [ 0.8 -0.6  0.   0.7]\n",
      "\n",
      "\n",
      "iteration: 2\n",
      "Updated weights are: [ 0.6 -0.2  0.   0.9]\n",
      "Updated weights are: [ 0.6 -0.2  0.   0.9]\n",
      "Updated weights are: [ 0.6 -0.2  0.   0.9]\n",
      "\n",
      "\n"
     ]
    }
   ],
   "source": [
    "for z in range(2):\n",
    "    print(\"iteration:\",z+1)\n",
    "    j=0;\n",
    "    for i in training_inputs:\n",
    "        fnet=signum(np.dot(i,init_weights))\n",
    "        temp=d[j]-fnet\n",
    "        del_w=np.dot(i,temp*c)\n",
    "        init_weights+=del_w\n",
    "        j=j+1\n",
    "        print(\"Updated weights are:\",init_weights)\n",
    "    print(\"\\n\")\n",
    "    "
   ]
  },
  {
   "cell_type": "code",
   "execution_count": null,
   "id": "73103c85",
   "metadata": {},
   "outputs": [],
   "source": []
  },
  {
   "cell_type": "code",
   "execution_count": null,
   "id": "3b6e73ff",
   "metadata": {},
   "outputs": [],
   "source": []
  }
 ],
 "metadata": {
  "kernelspec": {
   "display_name": "Python 3 (ipykernel)",
   "language": "python",
   "name": "python3"
  },
  "language_info": {
   "codemirror_mode": {
    "name": "ipython",
    "version": 3
   },
   "file_extension": ".py",
   "mimetype": "text/x-python",
   "name": "python",
   "nbconvert_exporter": "python",
   "pygments_lexer": "ipython3",
   "version": "3.9.7"
  }
 },
 "nbformat": 4,
 "nbformat_minor": 5
}
